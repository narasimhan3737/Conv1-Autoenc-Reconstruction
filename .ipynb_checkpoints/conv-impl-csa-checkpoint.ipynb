{
 "cells": [
  {
   "cell_type": "code",
   "execution_count": 20,
   "metadata": {},
   "outputs": [],
   "source": [
    "import scipy.io\n",
    "import os\n",
    "import shutil\n",
    "try:\n",
    "    from urllib import urlretrieve # python2\n",
    "except:\n",
    "    from urllib.request import urlretrieve # python3\n",
    "#from train_objectives import SAD, SID\n",
    "from torchmetrics import SpectralAngleMapper"
   ]
  },
  {
   "cell_type": "code",
   "execution_count": 21,
   "metadata": {},
   "outputs": [],
   "source": [
    "import data as data\n",
    "import numpy as np\n",
    "import matplotlib.pyplot as plt\n",
    "import torch as T\n",
    "import torch\n",
    "device = T.device(\"cuda\")  # apply to Tensor or Module\n",
    "import time\n",
    "from tqdm import tqdm\n",
    "torch.cuda.empty_cache()"
   ]
  },
  {
   "cell_type": "code",
   "execution_count": 22,
   "metadata": {},
   "outputs": [],
   "source": [
    "mat = scipy.io.loadmat( 'PaviaU.mat' )\n",
    "img = mat[ 'paviaU' ]\n",
    "\n",
    "# create a hyperspectral dataset object from the numpy array\n",
    "hypData = data.HypImg( img )\n",
    "\n",
    "# pre-process data to make the model easier to train\n",
    "hypData.pre_process( 'minmax' )"
   ]
  },
  {
   "cell_type": "code",
   "execution_count": 23,
   "metadata": {},
   "outputs": [],
   "source": [
    "# create data iterator objects for training and validation using the pre-processed data\n",
    "trainSamples = 200000\n",
    "valSamples = 100\n",
    "train_data1=torch.tensor(hypData.spectraPrep[:trainSamples, :].astype(np.float32)).unsqueeze(1)\n",
    "dataTrain = data.Iterator( dataSamples=train_data1,\n",
    "                        targets=train_data1, batchSize=1000 )\n",
    "dataVal = data.Iterator( dataSamples=hypData.spectraPrep[trainSamples:trainSamples+valSamples, :],\n",
    "                        targets=hypData.spectraPrep[trainSamples:trainSamples+valSamples, :] )\n"
   ]
  },
  {
   "cell_type": "code",
   "execution_count": 24,
   "metadata": {},
   "outputs": [],
   "source": [
    "trainSamples = 200000\n",
    "valSamples = 100\n"
   ]
  },
  {
   "cell_type": "code",
   "execution_count": 25,
   "metadata": {},
   "outputs": [],
   "source": [
    "# shuffle training data\n",
    "dataTrain.shuffle()"
   ]
  },
  {
   "cell_type": "code",
   "execution_count": 26,
   "metadata": {},
   "outputs": [
    {
     "data": {
      "text/plain": [
       "([103, 50, 30, 10], [10, 30, 50, 103])"
      ]
     },
     "execution_count": 26,
     "metadata": {},
     "output_type": "execute_result"
    }
   ],
   "source": [
    "hypData.numBands\n",
    "encoderSize=[50,30,10]\n",
    "encoderSize=[hypData.numBands]+encoderSize\n",
    "decodersize=encoderSize[::-1]\n",
    "encoderSize,decodersize"
   ]
  },
  {
   "cell_type": "code",
   "execution_count": 27,
   "metadata": {},
   "outputs": [],
   "source": [
    "def csam(input, target):\n",
    "    normalize_r = (input/torch.sum(input, dim=0)) \n",
    "    normalize_t = (target/torch.sum(target, dim=0))\n",
    "    mult = torch.sum(torch.multiply(normalize_r,normalize_t),dim=0)\n",
    "    mult = 1-(torch.sum(mult))\n",
    "    return mult"
   ]
  },
  {
   "cell_type": "code",
   "execution_count": 28,
   "metadata": {},
   "outputs": [],
   "source": [
    "def csa1(input, target):\n",
    "    norm_r = torch.nn.functional.normalize(torch.transpose(input,0,0),dim=0)\n",
    "    norm_t = torch.nn.functional.normalize(torch.transpose(target,0,0),dim=0)\n",
    "    mult = torch.multiply(norm_r,norm_t).sum()\n",
    "    return 1-mult.sum()"
   ]
  },
  {
   "cell_type": "code",
   "execution_count": 29,
   "metadata": {},
   "outputs": [],
   "source": [
    "def force_cudnn_initialization():\n",
    "    s = 32\n",
    "    dev = torch.device('cuda')\n",
    "    torch.nn.functional.conv2d(torch.zeros(s, s, s, s, device=dev), torch.zeros(s, s, s, s, device=dev))"
   ]
  },
  {
   "cell_type": "code",
   "execution_count": 30,
   "metadata": {},
   "outputs": [
    {
     "name": "stdout",
     "output_type": "stream",
     "text": [
      "torch.Size([50, 1, 103])\n"
     ]
    },
    {
     "data": {
      "text/plain": [
       "torch.Size([50, 1, 103])"
      ]
     },
     "execution_count": 30,
     "metadata": {},
     "output_type": "execute_result"
    }
   ],
   "source": [
    "# -----------------------------------------------------------\n",
    "\n",
    "class Net(T.nn.Module):\n",
    "  def __init__(self):\n",
    "    super(Net, self).__init__()\n",
    "    self.enn1 = T.nn.Conv1d(1, 50,kernel_size = 3, stride = 1)  # 64-16-2-16-64\n",
    "    self.enn2 = T.nn.Conv1d(50, 30,kernel_size = 3, stride = 1)\n",
    "    self.enn3 = T.nn.Conv1d(30,10,kernel_size = 3, stride = 1)\n",
    "    self.dnn3 = T.nn.ConvTranspose1d(10, 30,3)  # 64-16-2-16-64\n",
    "    self.dnn2 = T.nn.ConvTranspose1d(30, 50,3)\n",
    "    self.dnn1 = T.nn.ConvTranspose1d(50,1,3)\n",
    "    self.flatten=T.nn.Flatten()\n",
    "    self.dense1 = T.nn.Linear(10*97, 10)\n",
    "    self.dense2 = T.nn.Linear(10,10*97)\n",
    "    self.unflatten=T.nn.Unflatten(1,[10,97])\n",
    "  def encoder(self,x):\n",
    "    z= T.relu(self.enn1(x))\n",
    "    z= T.relu(self.enn2(z))\n",
    "    z= T.relu(self.enn3(z))\n",
    "    z= self.flatten(z)\n",
    "    z= T.relu(self.dense1(z))\n",
    "    return z\n",
    "  \n",
    "  def decoder(self,x):\n",
    "    z= T.relu(self.dense2(x))\n",
    "    z= self.unflatten(z)\n",
    "    z= T.relu(self.dnn3(z))\n",
    "    z= T.relu(self.dnn2(z))\n",
    "    z= self.dnn1(z)\n",
    "    return z\n",
    "\n",
    "\n",
    "  def forward(self, x):\n",
    "    z=self.encoder(x)\n",
    "    z= self.decoder(z)\n",
    "    \n",
    "    return z\n",
    "net=Net().to(device)\n",
    "inpu=torch.rand(50,1,103).to(device)\n",
    "print(inpu.shape)\n",
    "outp=net(inpu)\n",
    "outp.shape\n"
   ]
  },
  {
   "cell_type": "code",
   "execution_count": 31,
   "metadata": {},
   "outputs": [
    {
     "name": "stderr",
     "output_type": "stream",
     "text": [
      "C:\\Users\\naras\\AppData\\Local\\Temp\\ipykernel_17580\\3915235939.py:1: UserWarning: To copy construct from a tensor, it is recommended to use sourceTensor.clone().detach() or sourceTensor.clone().detach().requires_grad_(True), rather than torch.tensor(sourceTensor).\n",
      "  train_data = torch.tensor(dataTrain.dataSamples)\n"
     ]
    },
    {
     "data": {
      "text/plain": [
       "tensor([[[4.5851e-07, 8.8950e-02, 1.6827e-01,  ..., 4.9244e-01,\n",
       "          4.9152e-01, 4.9198e-01]],\n",
       "\n",
       "        [[1.6078e-01, 6.7627e-02, 2.7159e-07,  ..., 9.0223e-01,\n",
       "          9.1581e-01, 9.2042e-01]],\n",
       "\n",
       "        [[7.9784e-02, 1.1562e-01, 1.5348e-01,  ..., 5.0913e-01,\n",
       "          4.9831e-01, 4.8479e-01]],\n",
       "\n",
       "        ...,\n",
       "\n",
       "        [[1.9525e-01, 1.6181e-01, 1.2136e-01,  ..., 7.1359e-01,\n",
       "          7.2114e-01, 7.1197e-01]],\n",
       "\n",
       "        [[1.5844e-01, 5.4259e-07, 9.3869e-02,  ..., 7.2925e-01,\n",
       "          7.3467e-01, 7.4986e-01]],\n",
       "\n",
       "        [[2.0311e-01, 1.3541e-01, 5.0150e-07,  ..., 7.1063e-01,\n",
       "          7.2016e-01, 7.4875e-01]]])"
      ]
     },
     "execution_count": 31,
     "metadata": {},
     "output_type": "execute_result"
    }
   ],
   "source": [
    "train_data = torch.tensor(dataTrain.dataSamples)\n",
    "train_data"
   ]
  },
  {
   "cell_type": "code",
   "execution_count": null,
   "metadata": {
    "scrolled": true
   },
   "outputs": [
    {
     "name": "stdout",
     "output_type": "stream",
     "text": [
      "\n",
      "Begin UCI digits auto-reduce-viz demo job \n",
      "\n",
      "Creating 64-16-2-16-63 autoencoder \n",
      "\n",
      "bat_size = 16368 \n",
      "loss = <function csa1 at 0x000001D8A1813DC0>\n",
      "optimizer = Adam\n",
      "max_epochs = 1000 \n",
      "lrn_rate = 0.000 \n",
      "\n",
      "Starting training\n"
     ]
    },
    {
     "name": "stderr",
     "output_type": "stream",
     "text": [
      "Epoch [0/1000]: 100%|█████████████| 13/13 [00:01<00:00,  7.70it/s, loss=1149.2018127441406, mseloss=14.362277626991272]\n",
      "Epoch [1/1000]: 100%|██████████████| 13/13 [00:01<00:00,  9.42it/s, loss=1148.874382019043, mseloss=14.365783452987671]\n",
      "Epoch [2/1000]: 100%|██████████████| 13/13 [00:01<00:00,  9.28it/s, loss=1149.219711303711, mseloss=14.361604809761047]\n",
      "Epoch [3/1000]: 100%|███████████████| 13/13 [00:01<00:00,  9.42it/s, loss=1149.15380859375, mseloss=14.359844326972961]\n",
      "Epoch [4/1000]: 100%|██████████████| 13/13 [00:01<00:00,  9.45it/s, loss=1149.153434753418, mseloss=14.357246279716492]\n",
      "Epoch [5/1000]:  77%|██████████▊   | 10/13 [00:01<00:00,  8.88it/s, loss=883.9906997680664, mseloss=11.042723178863525]"
     ]
    }
   ],
   "source": [
    "# -----------------------------------------------------------\n",
    "\n",
    "force_cudnn_initialization()\n",
    "# 0. setup\n",
    "print(\"\\nBegin UCI digits auto-reduce-viz demo job \")\n",
    "T.manual_seed(1)\n",
    "np.random.seed(1)\n",
    "\n",
    "bat_size = 2*8184\n",
    "train_ldr = T.utils.data.DataLoader(train_data,\n",
    "batch_size=bat_size, shuffle=True)\n",
    "  # 2. create network\n",
    "print(\"\\nCreating 64-16-2-16-63 autoencoder \")\n",
    "net = Net().to(\"cuda:0\")\n",
    "\n",
    "# 3. train model\n",
    "max_epochs = 1000\n",
    "ep_log_interval = 5\n",
    "lrn_rate = 0.000001\n",
    "\n",
    "loss_func1 = T.nn.MSELoss()\n",
    "##loss_func = csam()\n",
    "optimizer = T.optim.Adam(net.parameters(), lr=lrn_rate)\n",
    "\n",
    "print(\"\\nbat_size = %3d \" % bat_size)\n",
    "print(\"loss = \" + str(csa1))\n",
    "print(\"optimizer = Adam\")\n",
    "print(\"max_epochs = %3d \" % max_epochs)\n",
    "print(\"lrn_rate = %0.3f \" % lrn_rate)\n",
    "\n",
    "print(\"\\nStarting training\")\n",
    "net = net.train()\n",
    "\n",
    "\n",
    "for epoch in range(0, max_epochs):\n",
    "  time.sleep(0.5)\n",
    "  loop= tqdm(enumerate(train_ldr), total=len(train_ldr),leave=True)\n",
    "  epoch_loss = 0  # for one full epoch\n",
    "  mseloss=0\n",
    "  for (batch_idx, batch) in loop:\n",
    "    X = batch.to(device)  # no targets needed\n",
    "\n",
    "    optimizer.zero_grad()\n",
    "    oupt = net(X)\n",
    "    loss_obj = csa1(oupt, X)  # note: X not Y\n",
    "    loss_obj1=loss_func1(oupt,X)\n",
    "    #sum_loss=torch.sum(loss_obj.squeeze(1))\n",
    "    epoch_loss += loss_obj.item()  # accumulate\n",
    "    mseloss+=loss_obj1.item()\n",
    "    loss_obj.backward()\n",
    "    optimizer.step()\n",
    "    \n",
    "    loop.set_description(f\"Epoch [{epoch}/{max_epochs}]\")\n",
    "    loop.set_postfix(loss=str(epoch_loss),mseloss=str(mseloss))\n",
    "\n",
    "    \n",
    "\n",
    "  #if epoch % ep_log_interval == 0:\n",
    "    \n",
    "    \n",
    "    #print(\"epoch = %4d   loss = %0.4f\" % (epoch, epoch_loss)) \n",
    "print(\"Done \")\n",
    "\n",
    "# 4. plot digits using reduced form\n",
    "print(\"\\nCreating graph from encoded data \")\n",
    "net = net.eval()\n",
    "\n",
    "\n",
    "\n"
   ]
  },
  {
   "cell_type": "code",
   "execution_count": null,
   "metadata": {},
   "outputs": [],
   "source": [
    "loss_obj"
   ]
  },
  {
   "cell_type": "code",
   "execution_count": null,
   "metadata": {},
   "outputs": [],
   "source": [
    "\n",
    "torch.save(net, 'model_conv_csa.pth')"
   ]
  },
  {
   "cell_type": "code",
   "execution_count": null,
   "metadata": {},
   "outputs": [],
   "source": [
    "torch.save(net.state_dict(), 'net_model_conv_csa.pth')"
   ]
  },
  {
   "cell_type": "code",
   "execution_count": null,
   "metadata": {},
   "outputs": [],
   "source": [
    "net.load_state_dict(torch.load('net_model_conv_csa.pth'))"
   ]
  },
  {
   "cell_type": "code",
   "execution_count": null,
   "metadata": {},
   "outputs": [],
   "source": []
  },
  {
   "cell_type": "code",
   "execution_count": 18,
   "metadata": {},
   "outputs": [
    {
     "data": {
      "text/plain": [
       "torch.Size([207400, 1, 103])"
      ]
     },
     "execution_count": 18,
     "metadata": {},
     "output_type": "execute_result"
    }
   ],
   "source": [
    "trex=torch.tensor(hypData.spectraPrep.astype(np.float32))\n",
    "#rex = trex.shape[0],1\n",
    "trex = trex.reshape(207400,1,103)\n",
    "trex.shape"
   ]
  },
  {
   "cell_type": "code",
   "execution_count": 19,
   "metadata": {},
   "outputs": [
    {
     "ename": "RuntimeError",
     "evalue": "CUDA out of memory. Tried to allocate 3.90 GiB (GPU 0; 8.00 GiB total capacity; 3.99 GiB already allocated; 1.50 GiB free; 4.13 GiB reserved in total by PyTorch) If reserved memory is >> allocated memory try setting max_split_size_mb to avoid fragmentation.  See documentation for Memory Management and PYTORCH_CUDA_ALLOC_CONF",
     "output_type": "error",
     "traceback": [
      "\u001b[1;31m---------------------------------------------------------------------------\u001b[0m",
      "\u001b[1;31mRuntimeError\u001b[0m                              Traceback (most recent call last)",
      "Input \u001b[1;32mIn [19]\u001b[0m, in \u001b[0;36m<cell line: 1>\u001b[1;34m()\u001b[0m\n\u001b[1;32m----> 1\u001b[0m dataZ\u001b[38;5;241m=\u001b[39m\u001b[43mnet\u001b[49m\u001b[38;5;241;43m.\u001b[39;49m\u001b[43mencoder\u001b[49m\u001b[43m(\u001b[49m\u001b[43mtrex\u001b[49m\u001b[38;5;241;43m.\u001b[39;49m\u001b[43mto\u001b[49m\u001b[43m(\u001b[49m\u001b[38;5;124;43m\"\u001b[39;49m\u001b[38;5;124;43mcuda\u001b[39;49m\u001b[38;5;124;43m\"\u001b[39;49m\u001b[43m)\u001b[49m\u001b[43m)\u001b[49m\n\u001b[0;32m      2\u001b[0m dataZ\u001b[38;5;241m.\u001b[39mshape\n",
      "Input \u001b[1;32mIn [15]\u001b[0m, in \u001b[0;36mNet.encoder\u001b[1;34m(self, x)\u001b[0m\n\u001b[0;32m     16\u001b[0m \u001b[38;5;28;01mdef\u001b[39;00m \u001b[38;5;21mencoder\u001b[39m(\u001b[38;5;28mself\u001b[39m,x):\n\u001b[1;32m---> 17\u001b[0m   z\u001b[38;5;241m=\u001b[39m \u001b[43mT\u001b[49m\u001b[38;5;241;43m.\u001b[39;49m\u001b[43mrelu\u001b[49m\u001b[43m(\u001b[49m\u001b[38;5;28;43mself\u001b[39;49m\u001b[38;5;241;43m.\u001b[39;49m\u001b[43menn1\u001b[49m\u001b[43m(\u001b[49m\u001b[43mx\u001b[49m\u001b[43m)\u001b[49m\u001b[43m)\u001b[49m\n\u001b[0;32m     18\u001b[0m   z\u001b[38;5;241m=\u001b[39m T\u001b[38;5;241m.\u001b[39mrelu(\u001b[38;5;28mself\u001b[39m\u001b[38;5;241m.\u001b[39menn2(z))\n\u001b[0;32m     19\u001b[0m   z\u001b[38;5;241m=\u001b[39m T\u001b[38;5;241m.\u001b[39mrelu(\u001b[38;5;28mself\u001b[39m\u001b[38;5;241m.\u001b[39menn3(z))\n",
      "\u001b[1;31mRuntimeError\u001b[0m: CUDA out of memory. Tried to allocate 3.90 GiB (GPU 0; 8.00 GiB total capacity; 3.99 GiB already allocated; 1.50 GiB free; 4.13 GiB reserved in total by PyTorch) If reserved memory is >> allocated memory try setting max_split_size_mb to avoid fragmentation.  See documentation for Memory Management and PYTORCH_CUDA_ALLOC_CONF"
     ]
    }
   ],
   "source": [
    "dataZ=net.encoder(trex.to(\"cuda\"))\n",
    "dataZ.shape"
   ]
  },
  {
   "cell_type": "code",
   "execution_count": 37,
   "metadata": {},
   "outputs": [
    {
     "name": "stdout",
     "output_type": "stream",
     "text": [
      "torch.Size([207400, 1, 103]) torch.Size([207400, 10])\n"
     ]
    }
   ],
   "source": [
    "mini_batch=10000\n",
    "sendin=torch.empty(0,10).to(\"cuda\")\n",
    "sendout=torch.empty(0,1,103).to(\"cuda\")\n",
    "with torch.no_grad():\n",
    "    net.eval()\n",
    "    \n",
    "    for i in range(0,trex.shape[0],mini_batch):\n",
    "        \n",
    "        boo=trex[i:i+mini_batch]\n",
    "        dataZ=net.encoder(boo.to(\"cuda\"))\n",
    "        dataY = net.decoder(dataZ)\n",
    "        sendin=torch.cat((sendin,dataZ))\n",
    "        sendout=torch.cat((sendout,dataY))\n",
    "        \n",
    "print(sendout.shape,sendin.shape)"
   ]
  },
  {
   "cell_type": "code",
   "execution_count": 38,
   "metadata": {},
   "outputs": [
    {
     "data": {
      "text/plain": [
       "207400"
      ]
     },
     "execution_count": 38,
     "metadata": {},
     "output_type": "execute_result"
    }
   ],
   "source": [
    "trex.shape[0]"
   ]
  },
  {
   "cell_type": "code",
   "execution_count": 39,
   "metadata": {},
   "outputs": [
    {
     "data": {
      "text/plain": [
       "torch.Size([7400, 10])"
      ]
     },
     "execution_count": 39,
     "metadata": {},
     "output_type": "execute_result"
    }
   ],
   "source": [
    "dataZ.shape"
   ]
  },
  {
   "cell_type": "code",
   "execution_count": 40,
   "metadata": {},
   "outputs": [
    {
     "data": {
      "text/plain": [
       "torch.Size([7400, 1, 103])"
      ]
     },
     "execution_count": 40,
     "metadata": {},
     "output_type": "execute_result"
    }
   ],
   "source": [
    "boo.shape"
   ]
  },
  {
   "cell_type": "code",
   "execution_count": 41,
   "metadata": {},
   "outputs": [
    {
     "ename": "RuntimeError",
     "evalue": "Tensors must have same number of dimensions: got 3 and 2",
     "output_type": "error",
     "traceback": [
      "\u001b[1;31m---------------------------------------------------------------------------\u001b[0m",
      "\u001b[1;31mRuntimeError\u001b[0m                              Traceback (most recent call last)",
      "Input \u001b[1;32mIn [41]\u001b[0m, in \u001b[0;36m<cell line: 2>\u001b[1;34m()\u001b[0m\n\u001b[0;32m      6\u001b[0m         boo\u001b[38;5;241m=\u001b[39mtrex[i:i\u001b[38;5;241m+\u001b[39m\u001b[38;5;241m128\u001b[39m]\n\u001b[0;32m      7\u001b[0m         dataZ\u001b[38;5;241m=\u001b[39mnet\u001b[38;5;241m.\u001b[39mencoder(boo\u001b[38;5;241m.\u001b[39mto(\u001b[38;5;124m\"\u001b[39m\u001b[38;5;124mcuda\u001b[39m\u001b[38;5;124m\"\u001b[39m))\n\u001b[1;32m----> 8\u001b[0m         kaka\u001b[38;5;241m=\u001b[39m\u001b[43mtorch\u001b[49m\u001b[38;5;241;43m.\u001b[39;49m\u001b[43mcat\u001b[49m\u001b[43m(\u001b[49m\u001b[43m[\u001b[49m\u001b[43mkaka\u001b[49m\u001b[43m,\u001b[49m\u001b[43mdataZ\u001b[49m\u001b[43m]\u001b[49m\u001b[43m)\u001b[49m\n\u001b[0;32m      9\u001b[0m kaka\n",
      "\u001b[1;31mRuntimeError\u001b[0m: Tensors must have same number of dimensions: got 3 and 2"
     ]
    }
   ],
   "source": [
    "kaka=torch.empty(128,10,97).to(\"cuda\")\n",
    "with torch.no_grad():\n",
    "    net.eval()\n",
    "    \n",
    "    for i in range(0,trex.shape[0],128):\n",
    "        boo=trex[i:i+128]\n",
    "        dataZ=net.encoder(boo.to(\"cuda\"))\n",
    "        kaka=torch.cat([kaka,dataZ])\n",
    "kaka"
   ]
  },
  {
   "cell_type": "code",
   "execution_count": 42,
   "metadata": {},
   "outputs": [
    {
     "data": {
      "text/plain": [
       "torch.Size([128, 1, 103])"
      ]
     },
     "execution_count": 42,
     "metadata": {},
     "output_type": "execute_result"
    }
   ],
   "source": [
    "dataY = net.decoder(dataZ)\n",
    "dataY.shape"
   ]
  },
  {
   "cell_type": "code",
   "execution_count": 43,
   "metadata": {},
   "outputs": [
    {
     "data": {
      "text/plain": [
       "torch.Size([207400, 103])"
      ]
     },
     "execution_count": 43,
     "metadata": {},
     "output_type": "execute_result"
    }
   ],
   "source": [
    "sendout.reshape(sendout.shape[0],sendout.shape[2]).shape"
   ]
  },
  {
   "cell_type": "code",
   "execution_count": 44,
   "metadata": {},
   "outputs": [
    {
     "data": {
      "text/plain": [
       "610"
      ]
     },
     "execution_count": 44,
     "metadata": {},
     "output_type": "execute_result"
    }
   ],
   "source": [
    "hypData.numRows"
   ]
  },
  {
   "cell_type": "code",
   "execution_count": 45,
   "metadata": {},
   "outputs": [
    {
     "data": {
      "text/plain": [
       "torch.Size([207400, 103])"
      ]
     },
     "execution_count": 45,
     "metadata": {},
     "output_type": "execute_result"
    }
   ],
   "source": [
    "sendout.squeeze(1).shape"
   ]
  },
  {
   "cell_type": "code",
   "execution_count": 46,
   "metadata": {},
   "outputs": [],
   "source": [
    "imgZ = np.reshape(sendin.to(\"cpu\").detach().numpy(), (hypData.numRows, hypData.numCols, -1))"
   ]
  },
  {
   "cell_type": "code",
   "execution_count": 47,
   "metadata": {},
   "outputs": [],
   "source": [
    "imgY = np.reshape(sendout.squeeze(1).to(\"cpu\").detach().numpy(), (hypData.numRows, hypData.numCols, -1))"
   ]
  },
  {
   "cell_type": "code",
   "execution_count": 48,
   "metadata": {},
   "outputs": [],
   "source": [
    "imgX = np.reshape(hypData.spectraPrep, (hypData.numRows, hypData.numCols, -1))"
   ]
  },
  {
   "cell_type": "code",
   "execution_count": 49,
   "metadata": {},
   "outputs": [
    {
     "data": {
      "text/plain": [
       "(207400, 103)"
      ]
     },
     "execution_count": 49,
     "metadata": {},
     "output_type": "execute_result"
    }
   ],
   "source": [
    "hypData.spectraPrep.shape"
   ]
  },
  {
   "cell_type": "code",
   "execution_count": 50,
   "metadata": {},
   "outputs": [],
   "source": [
    "# visualise latent image using 3 out of the 10 dimensions\n",
    "colourImg = imgZ.copy()\n",
    "colourImg = colourImg[ :,:,np.argsort(-np.std(np.std(colourImg, axis=0), axis=0))[:3] ]\n",
    "colourImg /= np.max(np.max(colourImg, axis=0), axis=0)"
   ]
  },
  {
   "cell_type": "code",
   "execution_count": 51,
   "metadata": {},
   "outputs": [
    {
     "data": {
      "text/plain": [
       "<matplotlib.image.AxesImage at 0x20c3dd02910>"
      ]
     },
     "execution_count": 51,
     "metadata": {},
     "output_type": "execute_result"
    },
    {
     "data": {
      "image/png": "[encoded data removed]",
      "text/plain": [
       "<Figure size 432x288 with 1 Axes>"
      ]
     },
     "metadata": {
      "needs_background": "light"
     },
     "output_type": "display_data"
    }
   ],
   "source": [
    "plt.imshow(colourImg)"
   ]
  },
  {
   "cell_type": "code",
   "execution_count": 52,
   "metadata": {},
   "outputs": [
    {
     "data": {
      "text/plain": [
       "Text(0.5, 1.0, 'meadow spectra')"
      ]
     },
     "execution_count": 52,
     "metadata": {},
     "output_type": "execute_result"
    },
    {
     "data": {
      "image/png": "[encoded data removed]",
      "text/plain": [
       "<Figure size 432x288 with 1 Axes>"
      ]
     },
     "metadata": {
      "needs_background": "light"
     },
     "output_type": "display_data"
    }
   ],
   "source": [
    "# save plot of latent vector of 'meadow' spectra\n",
    "fig = plt.figure()\n",
    "plt.plot(imgZ[576, 210, :])\n",
    "plt.xlabel('latent dimension')\n",
    "plt.ylabel('latent value')\n",
    "plt.title('meadow spectra')"
   ]
  },
  {
   "cell_type": "code",
   "execution_count": 53,
   "metadata": {},
   "outputs": [
    {
     "data": {
      "text/plain": [
       "<matplotlib.legend.Legend at 0x20b66532e80>"
      ]
     },
     "execution_count": 53,
     "metadata": {},
     "output_type": "execute_result"
    },
    {
     "data": {
      "image/png": "[encoded data removed]",
      "text/plain": [
       "<Figure size 432x288 with 1 Axes>"
      ]
     },
     "metadata": {
      "needs_background": "light"
     },
     "output_type": "display_data"
    }
   ],
   "source": [
    "# save plot comparing pre-processed 'meadow' spectra input with decoder reconstruction\n",
    "fig = plt.figure()\n",
    "ax = plt.subplot(111)\n",
    "ax.plot(range(hypData.numBands),imgX[576, 210, :],label='pre-processed input')\n",
    "ax.plot(range(hypData.numBands),imgY[576, 210, :],label='reconstruction')\n",
    "plt.xlabel('band')\n",
    "plt.ylabel('value')\n",
    "plt.title('meadow spectra')\n",
    "ax.legend()"
   ]
  },
  {
   "cell_type": "code",
   "execution_count": 54,
   "metadata": {},
   "outputs": [
    {
     "data": {
      "text/plain": [
       "('C:\\\\Users\\\\naras\\\\Model_train\\\\Conv1-Autoenc\\\\PaviaU_gt.mat',\n",
       " <http.client.HTTPMessage at 0x20c3ddbae50>)"
      ]
     },
     "execution_count": 54,
     "metadata": {},
     "output_type": "execute_result"
    }
   ],
   "source": [
    " #--------- visualisation ----------------------------------------\n",
    "\n",
    " # download dataset ground truth pixel labels (if already downloaded, comment this out).\n",
    " urlretrieve( 'http://www.ehu.eus/ccwintco/uploads/5/50/PaviaU_gt.mat',\n",
    "                         os.path.join(os.getcwd(), 'PaviaU_gt.mat') )"
   ]
  },
  {
   "cell_type": "code",
   "execution_count": null,
   "metadata": {},
   "outputs": [],
   "source": [
    "# read labels into numpy array\n",
    "mat_gt = scipy.io.loadmat( 'PaviaU_gt.mat' )\n",
    "img_gt = mat_gt['paviaU_gt']\n",
    "gt = np.reshape( img_gt , ( -1 ) )\n",
    "gt"
   ]
  },
  {
   "cell_type": "code",
   "execution_count": null,
   "metadata": {},
   "outputs": [],
   "source": [
    "dataZ.detach()"
   ]
  },
  {
   "cell_type": "code",
   "execution_count": null,
   "metadata": {},
   "outputs": [],
   "source": [
    "imz=imgZ\n",
    "imz = imz[:,:,0]\n",
    "imz=imz.reshape(-1)\n",
    "imz.shape"
   ]
  },
  {
   "cell_type": "code",
   "execution_count": null,
   "metadata": {},
   "outputs": [],
   "source": [
    "dataZ_collection = [imz]\n",
    "\n",
    "for j,dataZ in enumerate(dataZ_collection):\n",
    "    # save a scatter plot image of 2 of 3 latent dimensions\n",
    "    std_dZ = -np.std(imz,axis=0)\n",
    "    idx = np.argsort(std_dZ)\n",
    "    fig, ax = plt.subplots()\n",
    "    for i,gt_class in enumerate(['asphalt', 'meadow', 'gravel','tree','painted metal','bare soil','bitumen','brick','shadow']):\n",
    "     ax.scatter(imz[gt == i+1], imz[gt == i+1], c='C%i'%i,s=5,label=gt_class)\n",
    "    ax.legend()\n",
    "    plt.title('latent representation: mse')\n",
    "    plt.xlabel('latent feature %i' % (idx[0]))\n",
    "#    plt.ylabel('latent feature %i' % (idx[1]))"
   ]
  },
  {
   "cell_type": "code",
   "execution_count": null,
   "metadata": {},
   "outputs": [],
   "source": [
    "idx.shape"
   ]
  },
  {
   "cell_type": "code",
   "execution_count": null,
   "metadata": {},
   "outputs": [],
   "source": [
    "from math import log10, sqrt\n",
    "import numpy as np\n",
    "  \n",
    "def PSNR(original, compressed):\n",
    "    mse = np.mean((original - compressed) ** 2)\n",
    "    if(mse == 0):  # MSE is zero means no noise is present in the signal .\n",
    "                  # Therefore PSNR have no importance.\n",
    "        return 100\n",
    "    max_pixel = 255.0\n",
    "    psnr = 20 * log10(max_pixel / sqrt(mse))\n",
    "    return psnr\n",
    "  \n",
    "def main():\n",
    "     original = imgX[576, 210, :]\n",
    "     compressed = imgY[576, 210, :]\n",
    "     value = PSNR(original, compressed)\n",
    "     print(f\"PSNR value is {value} dB\")\n",
    "       \n",
    "if __name__ == \"__main__\":\n",
    "    main()"
   ]
  },
  {
   "cell_type": "code",
   "execution_count": null,
   "metadata": {},
   "outputs": [],
   "source": [
    "psnr=[]\n",
    "import statistics\n",
    "for i in range(hypData.numBands):\n",
    "    original = imgX[:, :, i]\n",
    "    compressed = imgY[:, :, i]\n",
    "    value = PSNR(original, compressed)\n",
    "    psnr.append(value)\n",
    "    \n",
    "\n",
    "print(f\" Mean PSNR value is {statistics.mean(psnr)} dB\")"
   ]
  },
  {
   "cell_type": "code",
   "execution_count": null,
   "metadata": {},
   "outputs": [],
   "source": [
    "from skimage.metrics import structural_similarity\n",
    "##skimage.metrics.\n",
    "import argparse\n",
    "import imutils\n",
    "import cv2\n",
    "\n",
    "\n",
    "\n",
    "# 3. Load the two input images\n",
    "imageA = imgX[:, :, 1]\n",
    "imageB = imgY[:, :, 1]\n",
    "\n",
    "# 4. Convert the images to grayscale\n",
    "#grayA = cv2.cvtColor(imageA, cv2.COLOR_BGR2GRAY)\n",
    "#grayB = cv2.cvtColor(imageB, cv2.COLOR_BGR2GRAY)\n",
    "\n",
    "\n",
    "# 5. Compute the Structural Similarity Index (SSIM) between the two\n",
    "#    images, ensuring that the difference image is returned\n",
    "(score, diff) = structural_similarity(imageA, imageB, full=True)\n",
    "diff = (diff * 255).astype(\"uint8\")\n",
    "\n",
    "# 6. You can print only the score if you want\n",
    "print(\"SSIM: {}\".format(score))\n",
    "\n"
   ]
  },
  {
   "cell_type": "code",
   "execution_count": null,
   "metadata": {},
   "outputs": [],
   "source": []
  },
  {
   "cell_type": "code",
   "execution_count": null,
   "metadata": {},
   "outputs": [],
   "source": []
  }
 ],
 "metadata": {
  "interpreter": {
   "hash": "88279d2366fe020547cde40dd65aa0e3aa662a6ec1f3ca12d88834876c85e1a6"
  },
  "kernelspec": {
   "display_name": "Python 3 (ipykernel)",
   "language": "python",
   "name": "python3"
  },
  "language_info": {
   "codemirror_mode": {
    "name": "ipython",
    "version": 3
   },
   "file_extension": ".py",
   "mimetype": "text/x-python",
   "name": "python",
   "nbconvert_exporter": "python",
   "pygments_lexer": "ipython3",
   "version": "3.9.12"
  }
 },
 "nbformat": 4,
 "nbformat_minor": 2
}
